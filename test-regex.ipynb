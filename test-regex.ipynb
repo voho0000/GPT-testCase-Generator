{
 "cells": [
  {
   "cell_type": "code",
   "execution_count": 28,
   "metadata": {},
   "outputs": [],
   "source": [
    "import re\n",
    "\n",
    "input_text = \"\"\"Name: 病患檢查報告顯示異常\n",
    "Pre-Condition: 登入系統，進入病患檢查報告頁面\n",
    "Test Step:\n",
    "1. 進入病患檢查報告頁面，確認目前顯示的病患資料為#41病人C298094\n",
    "2. 檢查報告頁面顯示了四筆不屬於該病患的超音波報告\n",
    "3. 點擊這四筆超音波報告，確認是否有反應\n",
    "Expected Result:\n",
    "1. 確認顯示的病患資料為#41病人C298094\n",
    "2. 不應該顯示不屬於該病患的超音波報告\n",
    "3. 點擊超音波報告後，應該能夠正常顯示對應的檢查報告\n",
    "\n",
    "Name: 病患檢查報告顯示異常\n",
    "Pre-Condition: 登入系統，進入病患檢查報告頁面\n",
    "Test Step:\n",
    "1. 進入病患檢查報告頁面，確認目前顯示的病患資料為#19病人\n",
    "2. 檢查報告頁面顯示了不屬於該病患的檢查報告\n",
    "3. 點擊這些檢查報告，確認是否有反應\n",
    "Expected Result:\n",
    "1. 確認顯示的病患資料為#19病人\n",
    "2. 不應該顯示不屬於該病患的檢查報告\n",
    "3. 點擊檢查報告後，應該能夠正常顯示對應的檢查報告\"\"\"\n",
    "\n",
    "pattern = r'(?:測試案例\\d+[:：])?[\\s\\n]*Name[:：][\\s\\n]*(.*?)[\\s\\n]*Pre-Condition[:：][\\s\\n]*(.*?)[\\s\\n]*Test Step[:：]([\\s\\S]*?)Expected Result[:：]([\\s\\S]*?)(?=測試案例\\d+[:：]|Name[:：]|$)'\n",
    "\n"
   ]
  },
  {
   "cell_type": "code",
   "execution_count": 29,
   "metadata": {},
   "outputs": [
    {
     "name": "stdout",
     "output_type": "stream",
     "text": [
      "[('病患檢查報告顯示異常', '登入系統，進入病患檢查報告頁面', '\\n1. 進入病患檢查報告頁面，確認目前顯示的病患資料為#41病人C298094\\n2. 檢查報告頁面顯示了四筆不屬於該病患的超音波報告\\n', '\\n1. 確認顯示的病患資料為#41病人C298094\\n2. 不應該顯示不屬於該病患的超音波報告')]\n"
     ]
    }
   ],
   "source": [
    "import re\n",
    "\n",
    "# Define the regex pattern as a string\n",
    "pattern = r'(?:測試案例\\d+[:：])?[\\s\\n]*Name[:：][\\s\\n]*(.*?)[\\s\\n]*Pre-Condition[:：][\\s\\n]*(.*?)[\\s\\n]*Test Step[:：]([\\s\\S]*?)Expected Result[:：]([\\s\\S]*?)(?=測試案例\\d+[:：]|Name[:：]|$)'\n",
    "\n",
    "# Your input text\n",
    "input_text = '''\n",
    "Name: 病患檢查報告顯示異常\n",
    "Pre-Condition: 登入系統，進入病患檢查報告頁面\n",
    "Test Step:\n",
    "1. 進入病患檢查報告頁面，確認目前顯示的病患資料為#41病人C298094\n",
    "2. 檢查報告頁面顯示了四筆不屬於該病患的超音波報告\n",
    "Expected Result:\n",
    "1. 確認顯示的病患資料為#41病人C298094\n",
    "2. 不應該顯示不屬於該病患的超音波報告\n",
    "'''\n",
    "\n",
    "# Use re.findall() to find matches\n",
    "matches = re.findall(pattern, input_text)\n",
    "\n",
    "# Print matches\n",
    "print(matches)\n"
   ]
  },
  {
   "cell_type": "code",
   "execution_count": 30,
   "metadata": {},
   "outputs": [],
   "source": [
    "multuple_input = '''\n",
    "測試案例1\n",
    "Name: 病患檢查報告顯示異常\n",
    "Pre-Condition: 登入系統，進入病患檢查報告頁面\n",
    "Test Step:\n",
    "1. 進入病患檢查報告頁面，確認目前顯示的病患資料為#41病人C298094\n",
    "2. 檢查報告頁面顯示了四筆不屬於該病患的超音波報告\n",
    "3. 點擊這四筆超音波報告，確認是否有反應\n",
    "Expected Result:\n",
    "1. 確認顯示的病患資料為#41病人C298094\n",
    "2. 不應該顯示不屬於該病患的超音波報告\n",
    "3. 點擊超音波報告後，應該能夠正常顯示對應的檢查報告\n",
    "\n",
    "\n",
    "測試案例2\n",
    "Name: 病患檢查報告顯示異常\n",
    "Pre-Condition: 登入系統，進入病患檢查報告頁面\n",
    "Test Step:\n",
    "1. 進入病患檢查報告頁面，確認目前顯示的病患資料為#19病人\n",
    "2. 檢查報告頁面顯示了不屬於該病患的檢查報告\n",
    "3. 點擊這些檢查報告，確認是否有反應\n",
    "Expected Result:\n",
    "1. 確認顯示的病患資料為#19病人\n",
    "2. 不應該顯示不屬於該病患的檢查報告\n",
    "3. 點擊檢查報告後，應該能夠正常顯示對應的檢查報告'''"
   ]
  },
  {
   "cell_type": "code",
   "execution_count": 31,
   "metadata": {},
   "outputs": [
    {
     "data": {
      "text/plain": [
       "['\\n測試案例1\\n',\n",
       " ': 病患檢查報告顯示異常\\nPre-Condition: 登入系統，進入病患檢查報告頁面\\nTest Step:\\n1. 進入病患檢查報告頁面，確認目前顯示的病患資料為#41病人C298094\\n2. 檢查報告頁面顯示了四筆不屬於該病患的超音波報告\\n3. 點擊這四筆超音波報告，確認是否有反應\\nExpected Result:\\n1. 確認顯示的病患資料為#41病人C298094\\n2. 不應該顯示不屬於該病患的超音波報告\\n3. 點擊超音波報告後，應該能夠正常顯示對應的檢查報告\\n\\n\\n測試案例2\\n',\n",
       " ': 病患檢查報告顯示異常\\nPre-Condition: 登入系統，進入病患檢查報告頁面\\nTest Step:\\n1. 進入病患檢查報告頁面，確認目前顯示的病患資料為#19病人\\n2. 檢查報告頁面顯示了不屬於該病患的檢查報告\\n3. 點擊這些檢查報告，確認是否有反應\\nExpected Result:\\n1. 確認顯示的病患資料為#19病人\\n2. 不應該顯示不屬於該病患的檢查報告\\n3. 點擊檢查報告後，應該能夠正常顯示對應的檢查報告']"
      ]
     },
     "execution_count": 31,
     "metadata": {},
     "output_type": "execute_result"
    }
   ],
   "source": [
    "multuple_input.split(\"Name\")"
   ]
  },
  {
   "cell_type": "code",
   "execution_count": 40,
   "metadata": {},
   "outputs": [],
   "source": [
    "name = []\n",
    "preCondition = []\n",
    "testStep = []\n",
    "expectedResult = []\n",
    "for i in range(len(multuple_input.split(\"Name\"))-1):\n",
    "    name.append(\"Name\"+multuple_input.split(\"Name\")[i+1].split(\"Pre-Condition\")[0])\n",
    "    preCondition.append(\"Pre-Condition\"+multuple_input.split(\"Name\")[i+1].split(\"Pre-Condition\")[1].split(\"Test Step\")[0])\n",
    "    testStep.append(\"Test Step\"+multuple_input.split(\"Name\")[i+1].split(\"Pre-Condition\")[1].split(\"Test Step\")[1].split(\"Expected Result\")[0])\n",
    "    expectedResult.append(\"Expected Result\"+multuple_input.split(\"Name\")[i+1].split(\"Pre-Condition\")[1].split(\"Test Step\")[1].split(\"Expected Result\")[1].split(\"測試案例\")[0])"
   ]
  },
  {
   "cell_type": "code",
   "execution_count": 42,
   "metadata": {},
   "outputs": [
    {
     "data": {
      "text/plain": [
       "[': 登入系統，進入病患檢查報告頁面\\n', ': 登入系統，進入病患檢查報告頁面\\n']"
      ]
     },
     "execution_count": 42,
     "metadata": {},
     "output_type": "execute_result"
    }
   ],
   "source": [
    "preCondition"
   ]
  },
  {
   "cell_type": "code",
   "execution_count": 33,
   "metadata": {},
   "outputs": [
    {
     "data": {
      "text/plain": [
       "': 登入系統，進入病患檢查報告頁面\\n'"
      ]
     },
     "execution_count": 33,
     "metadata": {},
     "output_type": "execute_result"
    }
   ],
   "source": [
    "preCondition=multuple_input.split(\"Name\")[1].split(\"Pre-Condition\")[1].split(\"Test Step\")[0]"
   ]
  },
  {
   "cell_type": "code",
   "execution_count": 34,
   "metadata": {},
   "outputs": [
    {
     "data": {
      "text/plain": [
       "':\\n1. 進入病患檢查報告頁面，確認目前顯示的病患資料為#41病人C298094\\n2. 檢查報告頁面顯示了四筆不屬於該病患的超音波報告\\n3. 點擊這四筆超音波報告，確認是否有反應\\n'"
      ]
     },
     "execution_count": 34,
     "metadata": {},
     "output_type": "execute_result"
    }
   ],
   "source": [
    "testStep=multuple_input.split(\"Name\")[1].split(\"Pre-Condition\")[1].split(\"Test Step\")[1].split(\"Expected Result\")[0]"
   ]
  },
  {
   "cell_type": "code",
   "execution_count": 35,
   "metadata": {},
   "outputs": [
    {
     "data": {
      "text/plain": [
       "':\\n1. 確認顯示的病患資料為#41病人C298094\\n2. 不應該顯示不屬於該病患的超音波報告\\n3. 點擊超音波報告後，應該能夠正常顯示對應的檢查報告\\n\\n\\n'"
      ]
     },
     "execution_count": 35,
     "metadata": {},
     "output_type": "execute_result"
    }
   ],
   "source": [
    "expectedResult=multuple_input.split(\"Name\")[1].split(\"Pre-Condition\")[1].split(\"Test Step\")[1].split(\"Expected Result\")[1].split(\"測試案例\")[0]"
   ]
  },
  {
   "cell_type": "code",
   "execution_count": 36,
   "metadata": {},
   "outputs": [
    {
     "data": {
      "text/plain": [
       "':\\n1. 確認顯示的病患資料為#19病人\\n2. 不應該顯示不屬於該病患的檢查報告\\n3. 點擊檢查報告後，應該能夠正常顯示對應的檢查報告'"
      ]
     },
     "execution_count": 36,
     "metadata": {},
     "output_type": "execute_result"
    }
   ],
   "source": [
    "expectedResult=multuple_input.split(\"Name\")[1].split(\"Pre-Condition\")[1].split(\"Test Step\")[1].split(\"Expected Result\")[1].split(\"測試案例\")[0]"
   ]
  },
  {
   "cell_type": "code",
   "execution_count": 9,
   "metadata": {},
   "outputs": [
    {
     "data": {
      "text/plain": [
       "': 病患檢查報告顯示異常\\n'"
      ]
     },
     "execution_count": 9,
     "metadata": {},
     "output_type": "execute_result"
    }
   ],
   "source": [
    "multuple_input.split(\"Name\")[2].split(\"Pre-Condition\")[0]"
   ]
  }
 ],
 "metadata": {
  "kernelspec": {
   "display_name": "base",
   "language": "python",
   "name": "python3"
  },
  "language_info": {
   "codemirror_mode": {
    "name": "ipython",
    "version": 3
   },
   "file_extension": ".py",
   "mimetype": "text/x-python",
   "name": "python",
   "nbconvert_exporter": "python",
   "pygments_lexer": "ipython3",
   "version": "3.9.12"
  },
  "orig_nbformat": 4
 },
 "nbformat": 4,
 "nbformat_minor": 2
}
